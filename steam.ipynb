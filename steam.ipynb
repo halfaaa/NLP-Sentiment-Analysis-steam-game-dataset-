{
 "cells": [
  {
   "cell_type": "markdown",
   "metadata": {},
   "source": [
    "***Problem Statement***<br>\n",
    "The Business Problem<br>\n",
    "The gaming industry is highly competitive, with thousands of games competing for players attention. Game developers and publishers face a significant challenge in understanding what makes their titles successful or identifying areas of improvement. moreover players often find it difficult to discover games that align with their preferences due to the high volume of available options.<br>\n",
    "\n",
    "**Importance of the Problem**<br>\n",
    "Addressing this problem has several benefits:<br>\n",
    "For Companies: Better insights into player behavior and sentiment can guide development decisions, marketing strategies, and customer retention efforts. By understanding which aspects of a game drive positive engagement, companies can allocate resources more effectively to improve existing titles or develop future ones.<br>\n",
    "For Players: Personalized recommendations can enhance user satisfaction by helping them discover games they are likely to enjoy, encouraging engagement and loyalty.<br>\n",
    "Market Advantage: A robust recommendation system can help companies stand out in the crowded marketplace by offering an enhanced user experience.<br>\n",
    "**Proposed Solution**<br>\n",
    "The solution involves developing a data-driven system that leverages Natural Language Processing (NLP) and Machine Learning (ML) techniques to:<br>\n",
    "\n",
    "- Analyze user sentiment and feedback (reviews).<br>\n",
    "- Incorporate user interaction metrics (hours played).<br>\n",
    "- Generate personalized recommendations based on player preferences and game features.<br>\n",
    "\n",
    "**Data Collection**<br>\n",
    "dataset contains over 990,000 rows of data scraped from the Steam platform, focusing on game reviews, rankings, and game-related information across various genres. The data was collected from the top 40 games in sales, revenue, and reviews within six core genres on Steam. The dataset includes 242 games for player reviews and 290 games for genre rankings and descriptions, with some games excluded due to content restrictions.<br>\n",
    "The dataset is publicly available on kaggle:<br>\n",
    "https://www.kaggle.com/datasets/mohamedtarek01234/steam-games-reviews-and-rankings/data<br>\n",
    "\n",
    "The dataset is divided into three files, each containing different types of information:<br>\n",
    "games_description.csv:<br>\n",
    "This file contains detailed descriptions of the games.<br>\n",
    "Columns:<br>\n",
    "name: Game title<br>\n",
    "short_description: Brief description of the game<br>\n",
    "long_description: Detailed description of the game<br>\n",
    "genres: List of genres the game belongs to<br>\n",
    "minimum_system_requirement: Minimum system requirements to run the game<br>\n",
    "recommend_system_requirement: Recommended system requirements<br>\n",
    "release_date: Game release date<br>\n",
    "developer: Developer of the game<br>\n",
    "publisher: Publisher of the game<br>\n",
    "overall_player_rating: Overall player rating for the game<br>\n",
    "number_of_reviews_from_purchased_people: Number of reviews from users who purchased the game<br>\n",
    "number_of_english_reviews: Number of reviews written in English<br>\n",
    "\n",
    "steam_game_reviews.csv:<br>\n",
    "This file contains player reviews for the games.<br>\n",
    "Columns:<br>\n",
    "review: The content of the player’s review<br>\n",
    "hours_played: Total hours the player has spent on the game<br>\n",
    "helpful: Number of users who found the review helpful<br>\n",
    "funny: Number of users who found the review funny<br>\n",
    "recommendation: Whether the player recommended or did not recommend the game<br>\n",
    "date: Date of the review<br>\n",
    "game_name: Name of the game being reviewed<br>\n",
    "username: Username of the player who wrote the review<br>\n",
    "games_ranking.csv: This file contains the ranking of games by genre.<br>\n",
    "\n",
    "for this project i will focus on games description and steam game reviews files<br>\n",
    "\n",
    "**workflow overview**<br>\n",
    "*1.Data Collection and Preprocessing*<br>\n",
    "Data Sources: Game reviews, player statistics, and game attributes.<br>\n",
    "Preprocessing: Cleaning and normalizing textual data, handling missing values, and encoding categorical features.<br>\n",
    "*2.NLP-Based Sentiment Analysis*<br>\n",
    "Text Tokenization: Breaking down user reviews into words or phrases.<br>\n",
    "Model Training: building a traditional based nlp model and a neural network based nlp model to determine sentiment scores.<br>\n",
    "Sentiment Scoring: Assigning numeric values to reviews to quantify player satisfaction.<br>\n",
    "*3.Feature Engineering*<br>\n",
    "Combining Data: Merging sentiment scores with other structured data, such as hours played and game genres.<br>\n",
    "Normalization: Scaling numerical features (hours played) to ensure uniformity.<br>\n",
    "*4.Recommendation System*<br>\n",
    "Feature Scaling: Using a pre-trained scaler for standardization.<br>\n",
    "Ranking and Scoring: Combining sentiment probabilities and player engagement metrics to rank games.<br>\n",
    "*5.Evaluation and Feedback Loop*<br>\n",
    "Metrics: Accuracy, precision, recall, F1-score, and ROC-AUC for sentiment analysis; ranking metrics for recommendations<br>\n",
    "Continuous Improvement: Incorporate user feedback to refine the model.<br>"
   ]
  },
  {
   "cell_type": "markdown",
   "metadata": {},
   "source": [
    "Importing necessary libraries"
   ]
  },
  {
   "cell_type": "code",
   "execution_count": null,
   "metadata": {},
   "outputs": [],
   "source": [
    "import pandas as pd\n",
    "import numpy as np\n",
    "import re\n",
    "from nltk.corpus import stopwords\n",
    "import nltk\n",
    "import ast\n",
    "from sklearn.preprocessing import MultiLabelBinarizer\n",
    "from textblob import TextBlob\n",
    "from sklearn.model_selection import train_test_split\n",
    "from sklearn.ensemble import RandomForestClassifier\n",
    "from sklearn.metrics import accuracy_score, precision_score, recall_score, f1_score, roc_auc_score\n",
    "from sklearn.impute import SimpleImputer\n",
    "import pickle\n",
    "from sklearn.linear_model import LogisticRegression\n",
    "import tensorflow as tf\n",
    "from tensorflow.keras import layers, models\n",
    "from sklearn.preprocessing import StandardScaler\n",
    "from tensorflow.keras.models import load_model"
   ]
  },
  {
   "cell_type": "markdown",
   "metadata": {},
   "source": [
    "Loading data"
   ]
  },
  {
   "cell_type": "code",
   "execution_count": 2,
   "metadata": {},
   "outputs": [
    {
     "name": "stderr",
     "output_type": "stream",
     "text": [
      "C:\\Users\\nima_\\AppData\\Local\\Temp\\ipykernel_23320\\3808623919.py:1: DtypeWarning: Columns (2,3) have mixed types. Specify dtype option on import or set low_memory=False.\n",
      "  reviews_df = pd.read_csv('d://classes/nlp/project/steam/archive/steam_game_reviews.csv')\n"
     ]
    }
   ],
   "source": [
    "reviews_df = pd.read_csv('d://classes/nlp/project/steam/archive/steam_game_reviews.csv')\n",
    "description_df = pd.read_csv('d://classes/nlp/project/steam/archive/games_description.csv')"
   ]
  },
  {
   "cell_type": "code",
   "execution_count": 3,
   "metadata": {},
   "outputs": [
    {
     "name": "stdout",
     "output_type": "stream",
     "text": [
      "Reviews Data Sample:\n"
     ]
    },
    {
     "data": {
      "text/html": [
       "<div>\n",
       "<style scoped>\n",
       "    .dataframe tbody tr th:only-of-type {\n",
       "        vertical-align: middle;\n",
       "    }\n",
       "\n",
       "    .dataframe tbody tr th {\n",
       "        vertical-align: top;\n",
       "    }\n",
       "\n",
       "    .dataframe thead th {\n",
       "        text-align: right;\n",
       "    }\n",
       "</style>\n",
       "<table border=\"1\" class=\"dataframe\">\n",
       "  <thead>\n",
       "    <tr style=\"text-align: right;\">\n",
       "      <th></th>\n",
       "      <th>review</th>\n",
       "      <th>hours_played</th>\n",
       "      <th>helpful</th>\n",
       "      <th>funny</th>\n",
       "      <th>recommendation</th>\n",
       "      <th>date</th>\n",
       "      <th>game_name</th>\n",
       "      <th>username</th>\n",
       "    </tr>\n",
       "  </thead>\n",
       "  <tbody>\n",
       "    <tr>\n",
       "      <th>0</th>\n",
       "      <td>The game itself is also super fun. The PvP and...</td>\n",
       "      <td>39.9</td>\n",
       "      <td>1,152</td>\n",
       "      <td>13</td>\n",
       "      <td>Recommended</td>\n",
       "      <td>14 September</td>\n",
       "      <td>Warhammer 40,000: Space Marine 2</td>\n",
       "      <td>Sentinowl\\n224 products in account</td>\n",
       "    </tr>\n",
       "    <tr>\n",
       "      <th>1</th>\n",
       "      <td>Never cared much about Warhammer until this ga...</td>\n",
       "      <td>91.5</td>\n",
       "      <td>712</td>\n",
       "      <td>116</td>\n",
       "      <td>Recommended</td>\n",
       "      <td>13 September</td>\n",
       "      <td>Warhammer 40,000: Space Marine 2</td>\n",
       "      <td>userpig\\n248 products in account</td>\n",
       "    </tr>\n",
       "    <tr>\n",
       "      <th>2</th>\n",
       "      <td>A salute to all the fallen battle brothers who...</td>\n",
       "      <td>43.3</td>\n",
       "      <td>492</td>\n",
       "      <td>33</td>\n",
       "      <td>Recommended</td>\n",
       "      <td>14 September</td>\n",
       "      <td>Warhammer 40,000: Space Marine 2</td>\n",
       "      <td>Imparat0r\\n112 products in account</td>\n",
       "    </tr>\n",
       "    <tr>\n",
       "      <th>3</th>\n",
       "      <td>this game feels like it was made in the mid 20...</td>\n",
       "      <td>16.8</td>\n",
       "      <td>661</td>\n",
       "      <td>15</td>\n",
       "      <td>Recommended</td>\n",
       "      <td>14 September</td>\n",
       "      <td>Warhammer 40,000: Space Marine 2</td>\n",
       "      <td>Fattest_falcon</td>\n",
       "    </tr>\n",
       "    <tr>\n",
       "      <th>4</th>\n",
       "      <td>Reminds me of something I've lost. A genuine g...</td>\n",
       "      <td>24.0</td>\n",
       "      <td>557</td>\n",
       "      <td>4</td>\n",
       "      <td>Recommended</td>\n",
       "      <td>12 September</td>\n",
       "      <td>Warhammer 40,000: Space Marine 2</td>\n",
       "      <td>Jek\\n410 products in account</td>\n",
       "    </tr>\n",
       "  </tbody>\n",
       "</table>\n",
       "</div>"
      ],
      "text/plain": [
       "                                              review hours_played helpful  \\\n",
       "0  The game itself is also super fun. The PvP and...         39.9   1,152   \n",
       "1  Never cared much about Warhammer until this ga...         91.5     712   \n",
       "2  A salute to all the fallen battle brothers who...         43.3     492   \n",
       "3  this game feels like it was made in the mid 20...         16.8     661   \n",
       "4  Reminds me of something I've lost. A genuine g...         24.0     557   \n",
       "\n",
       "  funny recommendation          date                         game_name  \\\n",
       "0    13    Recommended  14 September  Warhammer 40,000: Space Marine 2   \n",
       "1   116    Recommended  13 September  Warhammer 40,000: Space Marine 2   \n",
       "2    33    Recommended  14 September  Warhammer 40,000: Space Marine 2   \n",
       "3    15    Recommended  14 September  Warhammer 40,000: Space Marine 2   \n",
       "4     4    Recommended  12 September  Warhammer 40,000: Space Marine 2   \n",
       "\n",
       "                             username  \n",
       "0  Sentinowl\\n224 products in account  \n",
       "1    userpig\\n248 products in account  \n",
       "2  Imparat0r\\n112 products in account  \n",
       "3                      Fattest_falcon  \n",
       "4        Jek\\n410 products in account  "
      ]
     },
     "execution_count": 3,
     "metadata": {},
     "output_type": "execute_result"
    }
   ],
   "source": [
    "print(\"Reviews Data Sample:\")\n",
    "reviews_df.head()"
   ]
  },
  {
   "cell_type": "code",
   "execution_count": 4,
   "metadata": {},
   "outputs": [
    {
     "name": "stdout",
     "output_type": "stream",
     "text": [
      "\n",
      "Descriptions Data Sample:\n"
     ]
    },
    {
     "data": {
      "text/html": [
       "<div>\n",
       "<style scoped>\n",
       "    .dataframe tbody tr th:only-of-type {\n",
       "        vertical-align: middle;\n",
       "    }\n",
       "\n",
       "    .dataframe tbody tr th {\n",
       "        vertical-align: top;\n",
       "    }\n",
       "\n",
       "    .dataframe thead th {\n",
       "        text-align: right;\n",
       "    }\n",
       "</style>\n",
       "<table border=\"1\" class=\"dataframe\">\n",
       "  <thead>\n",
       "    <tr style=\"text-align: right;\">\n",
       "      <th></th>\n",
       "      <th>name</th>\n",
       "      <th>short_description</th>\n",
       "      <th>long_description</th>\n",
       "      <th>genres</th>\n",
       "      <th>minimum_system_requirement</th>\n",
       "      <th>recommend_system_requirement</th>\n",
       "      <th>release_date</th>\n",
       "      <th>developer</th>\n",
       "      <th>publisher</th>\n",
       "      <th>overall_player_rating</th>\n",
       "      <th>number_of_reviews_from_purchased_people</th>\n",
       "      <th>number_of_english_reviews</th>\n",
       "      <th>link</th>\n",
       "    </tr>\n",
       "  </thead>\n",
       "  <tbody>\n",
       "    <tr>\n",
       "      <th>0</th>\n",
       "      <td>Black Myth: Wukong</td>\n",
       "      <td>Black Myth: Wukong is an action RPG rooted in ...</td>\n",
       "      <td>About This Game\\n\\t\\t\\t\\t\\t\\t\\tBlack Myth: Wuk...</td>\n",
       "      <td>['Mythology', 'Action RPG', 'Action', 'RPG', '...</td>\n",
       "      <td>['Requires a 64-bit processor and operating sy...</td>\n",
       "      <td>['Requires a 64-bit processor and operating sy...</td>\n",
       "      <td>19 Aug, 2024</td>\n",
       "      <td>['Game Science']</td>\n",
       "      <td>['Game Science']</td>\n",
       "      <td>Overwhelmingly Positive</td>\n",
       "      <td>(654,820)</td>\n",
       "      <td>51,931</td>\n",
       "      <td>https://store.steampowered.com/app/2358720/Bla...</td>\n",
       "    </tr>\n",
       "    <tr>\n",
       "      <th>1</th>\n",
       "      <td>Counter-Strike 2</td>\n",
       "      <td>For over two decades, Counter-Strike has offer...</td>\n",
       "      <td>About This Game\\n\\t\\t\\t\\t\\t\\t\\tFor over two de...</td>\n",
       "      <td>['FPS', 'Shooter', 'Multiplayer', 'Competitive...</td>\n",
       "      <td>['OS: Windows® 10', 'Processor: 4 hardware CPU...</td>\n",
       "      <td>['OS: Windows® 10', 'Processor: 4 hardware CPU...</td>\n",
       "      <td>21 Aug, 2012</td>\n",
       "      <td>['Valve']</td>\n",
       "      <td>['Valve']</td>\n",
       "      <td>Very Positive</td>\n",
       "      <td>(8,313,603)</td>\n",
       "      <td>2,258,990</td>\n",
       "      <td>https://store.steampowered.com/app/730/Counter...</td>\n",
       "    </tr>\n",
       "    <tr>\n",
       "      <th>2</th>\n",
       "      <td>Warhammer 40,000: Space Marine 2</td>\n",
       "      <td>Embody the superhuman skill and brutality of a...</td>\n",
       "      <td>About This Game\\nEmbody the superhuman skill a...</td>\n",
       "      <td>['Warhammer 40K', 'Action', 'Third-Person Shoo...</td>\n",
       "      <td>['Requires a 64-bit processor and operating sy...</td>\n",
       "      <td>['Requires a 64-bit processor and operating sy...</td>\n",
       "      <td>9 Sep, 2024</td>\n",
       "      <td>['Saber Interactive']</td>\n",
       "      <td>['Focus Entertainment']</td>\n",
       "      <td>Very Positive</td>\n",
       "      <td>(81% of 62,791) All Time</td>\n",
       "      <td>51,920</td>\n",
       "      <td>https://store.steampowered.com/app/2183900/War...</td>\n",
       "    </tr>\n",
       "    <tr>\n",
       "      <th>3</th>\n",
       "      <td>Cyberpunk 2077</td>\n",
       "      <td>Cyberpunk 2077 is an open-world, action-advent...</td>\n",
       "      <td>About This Game\\nCyberpunk 2077 is an open-wor...</td>\n",
       "      <td>['Cyberpunk', 'Open World', 'Nudity', 'RPG', '...</td>\n",
       "      <td>['Requires a 64-bit processor and operating sy...</td>\n",
       "      <td>['Requires a 64-bit processor and operating sy...</td>\n",
       "      <td>10 Dec, 2020</td>\n",
       "      <td>['CD PROJEKT RED']</td>\n",
       "      <td>['CD PROJEKT RED']</td>\n",
       "      <td>Very Positive</td>\n",
       "      <td>(680,264)</td>\n",
       "      <td>324,124</td>\n",
       "      <td>https://store.steampowered.com/app/1091500/Cyb...</td>\n",
       "    </tr>\n",
       "    <tr>\n",
       "      <th>4</th>\n",
       "      <td>ELDEN RING</td>\n",
       "      <td>THE CRITICALLY ACCLAIMED FANTASY ACTION RPG. R...</td>\n",
       "      <td>About This Game\\nTHE CRITICALLY ACCLAIMED FANT...</td>\n",
       "      <td>['Souls-like', 'Dark Fantasy', 'Open World', '...</td>\n",
       "      <td>['Requires a 64-bit processor and operating sy...</td>\n",
       "      <td>['Requires a 64-bit processor and operating sy...</td>\n",
       "      <td>25 Feb, 2022</td>\n",
       "      <td>['FromSoftware, Inc.']</td>\n",
       "      <td>['FromSoftware, Inc.', 'Bandai Namco Entertain...</td>\n",
       "      <td>Very Positive</td>\n",
       "      <td>(705,261)</td>\n",
       "      <td>491,741</td>\n",
       "      <td>https://store.steampowered.com/app/1245620/ELD...</td>\n",
       "    </tr>\n",
       "  </tbody>\n",
       "</table>\n",
       "</div>"
      ],
      "text/plain": [
       "                               name  \\\n",
       "0                Black Myth: Wukong   \n",
       "1                  Counter-Strike 2   \n",
       "2  Warhammer 40,000: Space Marine 2   \n",
       "3                    Cyberpunk 2077   \n",
       "4                        ELDEN RING   \n",
       "\n",
       "                                   short_description  \\\n",
       "0  Black Myth: Wukong is an action RPG rooted in ...   \n",
       "1  For over two decades, Counter-Strike has offer...   \n",
       "2  Embody the superhuman skill and brutality of a...   \n",
       "3  Cyberpunk 2077 is an open-world, action-advent...   \n",
       "4  THE CRITICALLY ACCLAIMED FANTASY ACTION RPG. R...   \n",
       "\n",
       "                                    long_description  \\\n",
       "0  About This Game\\n\\t\\t\\t\\t\\t\\t\\tBlack Myth: Wuk...   \n",
       "1  About This Game\\n\\t\\t\\t\\t\\t\\t\\tFor over two de...   \n",
       "2  About This Game\\nEmbody the superhuman skill a...   \n",
       "3  About This Game\\nCyberpunk 2077 is an open-wor...   \n",
       "4  About This Game\\nTHE CRITICALLY ACCLAIMED FANT...   \n",
       "\n",
       "                                              genres  \\\n",
       "0  ['Mythology', 'Action RPG', 'Action', 'RPG', '...   \n",
       "1  ['FPS', 'Shooter', 'Multiplayer', 'Competitive...   \n",
       "2  ['Warhammer 40K', 'Action', 'Third-Person Shoo...   \n",
       "3  ['Cyberpunk', 'Open World', 'Nudity', 'RPG', '...   \n",
       "4  ['Souls-like', 'Dark Fantasy', 'Open World', '...   \n",
       "\n",
       "                          minimum_system_requirement  \\\n",
       "0  ['Requires a 64-bit processor and operating sy...   \n",
       "1  ['OS: Windows® 10', 'Processor: 4 hardware CPU...   \n",
       "2  ['Requires a 64-bit processor and operating sy...   \n",
       "3  ['Requires a 64-bit processor and operating sy...   \n",
       "4  ['Requires a 64-bit processor and operating sy...   \n",
       "\n",
       "                        recommend_system_requirement  release_date  \\\n",
       "0  ['Requires a 64-bit processor and operating sy...  19 Aug, 2024   \n",
       "1  ['OS: Windows® 10', 'Processor: 4 hardware CPU...  21 Aug, 2012   \n",
       "2  ['Requires a 64-bit processor and operating sy...   9 Sep, 2024   \n",
       "3  ['Requires a 64-bit processor and operating sy...  10 Dec, 2020   \n",
       "4  ['Requires a 64-bit processor and operating sy...  25 Feb, 2022   \n",
       "\n",
       "                developer                                          publisher  \\\n",
       "0        ['Game Science']                                   ['Game Science']   \n",
       "1               ['Valve']                                          ['Valve']   \n",
       "2   ['Saber Interactive']                            ['Focus Entertainment']   \n",
       "3      ['CD PROJEKT RED']                                 ['CD PROJEKT RED']   \n",
       "4  ['FromSoftware, Inc.']  ['FromSoftware, Inc.', 'Bandai Namco Entertain...   \n",
       "\n",
       "     overall_player_rating number_of_reviews_from_purchased_people  \\\n",
       "0  Overwhelmingly Positive                               (654,820)   \n",
       "1            Very Positive                             (8,313,603)   \n",
       "2            Very Positive                (81% of 62,791) All Time   \n",
       "3            Very Positive                               (680,264)   \n",
       "4            Very Positive                               (705,261)   \n",
       "\n",
       "  number_of_english_reviews                                               link  \n",
       "0                    51,931  https://store.steampowered.com/app/2358720/Bla...  \n",
       "1                 2,258,990  https://store.steampowered.com/app/730/Counter...  \n",
       "2                    51,920  https://store.steampowered.com/app/2183900/War...  \n",
       "3                   324,124  https://store.steampowered.com/app/1091500/Cyb...  \n",
       "4                   491,741  https://store.steampowered.com/app/1245620/ELD...  "
      ]
     },
     "execution_count": 4,
     "metadata": {},
     "output_type": "execute_result"
    }
   ],
   "source": [
    "print(\"\\nDescriptions Data Sample:\")\n",
    "description_df.head()"
   ]
  },
  {
   "cell_type": "markdown",
   "metadata": {},
   "source": [
    "combining two datasets into a single dataframe (merged_df) for further analysis. This consolidated view allows for leveraging both reviews and game descriptions in downstream tasks."
   ]
  },
  {
   "cell_type": "code",
   "execution_count": null,
   "metadata": {},
   "outputs": [
    {
     "name": "stdout",
     "output_type": "stream",
     "text": [
      "Merged Data Sample:\n"
     ]
    },
    {
     "data": {
      "text/html": [
       "<div>\n",
       "<style scoped>\n",
       "    .dataframe tbody tr th:only-of-type {\n",
       "        vertical-align: middle;\n",
       "    }\n",
       "\n",
       "    .dataframe tbody tr th {\n",
       "        vertical-align: top;\n",
       "    }\n",
       "\n",
       "    .dataframe thead th {\n",
       "        text-align: right;\n",
       "    }\n",
       "</style>\n",
       "<table border=\"1\" class=\"dataframe\">\n",
       "  <thead>\n",
       "    <tr style=\"text-align: right;\">\n",
       "      <th></th>\n",
       "      <th>review</th>\n",
       "      <th>hours_played</th>\n",
       "      <th>helpful</th>\n",
       "      <th>funny</th>\n",
       "      <th>recommendation</th>\n",
       "      <th>date</th>\n",
       "      <th>game_name</th>\n",
       "      <th>username</th>\n",
       "      <th>short_description</th>\n",
       "      <th>long_description</th>\n",
       "      <th>genres</th>\n",
       "      <th>minimum_system_requirement</th>\n",
       "      <th>recommend_system_requirement</th>\n",
       "      <th>release_date</th>\n",
       "      <th>developer</th>\n",
       "      <th>publisher</th>\n",
       "      <th>overall_player_rating</th>\n",
       "      <th>number_of_reviews_from_purchased_people</th>\n",
       "      <th>number_of_english_reviews</th>\n",
       "      <th>link</th>\n",
       "    </tr>\n",
       "  </thead>\n",
       "  <tbody>\n",
       "    <tr>\n",
       "      <th>0</th>\n",
       "      <td>The game itself is also super fun. The PvP and...</td>\n",
       "      <td>39.9</td>\n",
       "      <td>1,152</td>\n",
       "      <td>13</td>\n",
       "      <td>Recommended</td>\n",
       "      <td>14 September</td>\n",
       "      <td>Warhammer 40,000: Space Marine 2</td>\n",
       "      <td>Sentinowl\\n224 products in account</td>\n",
       "      <td>Embody the superhuman skill and brutality of a...</td>\n",
       "      <td>About This Game\\nEmbody the superhuman skill a...</td>\n",
       "      <td>['Warhammer 40K', 'Action', 'Third-Person Shoo...</td>\n",
       "      <td>['Requires a 64-bit processor and operating sy...</td>\n",
       "      <td>['Requires a 64-bit processor and operating sy...</td>\n",
       "      <td>9 Sep, 2024</td>\n",
       "      <td>['Saber Interactive']</td>\n",
       "      <td>['Focus Entertainment']</td>\n",
       "      <td>Very Positive</td>\n",
       "      <td>(81% of 62,791) All Time</td>\n",
       "      <td>51,920</td>\n",
       "      <td>https://store.steampowered.com/app/2183900/War...</td>\n",
       "    </tr>\n",
       "    <tr>\n",
       "      <th>1</th>\n",
       "      <td>Never cared much about Warhammer until this ga...</td>\n",
       "      <td>91.5</td>\n",
       "      <td>712</td>\n",
       "      <td>116</td>\n",
       "      <td>Recommended</td>\n",
       "      <td>13 September</td>\n",
       "      <td>Warhammer 40,000: Space Marine 2</td>\n",
       "      <td>userpig\\n248 products in account</td>\n",
       "      <td>Embody the superhuman skill and brutality of a...</td>\n",
       "      <td>About This Game\\nEmbody the superhuman skill a...</td>\n",
       "      <td>['Warhammer 40K', 'Action', 'Third-Person Shoo...</td>\n",
       "      <td>['Requires a 64-bit processor and operating sy...</td>\n",
       "      <td>['Requires a 64-bit processor and operating sy...</td>\n",
       "      <td>9 Sep, 2024</td>\n",
       "      <td>['Saber Interactive']</td>\n",
       "      <td>['Focus Entertainment']</td>\n",
       "      <td>Very Positive</td>\n",
       "      <td>(81% of 62,791) All Time</td>\n",
       "      <td>51,920</td>\n",
       "      <td>https://store.steampowered.com/app/2183900/War...</td>\n",
       "    </tr>\n",
       "    <tr>\n",
       "      <th>2</th>\n",
       "      <td>A salute to all the fallen battle brothers who...</td>\n",
       "      <td>43.3</td>\n",
       "      <td>492</td>\n",
       "      <td>33</td>\n",
       "      <td>Recommended</td>\n",
       "      <td>14 September</td>\n",
       "      <td>Warhammer 40,000: Space Marine 2</td>\n",
       "      <td>Imparat0r\\n112 products in account</td>\n",
       "      <td>Embody the superhuman skill and brutality of a...</td>\n",
       "      <td>About This Game\\nEmbody the superhuman skill a...</td>\n",
       "      <td>['Warhammer 40K', 'Action', 'Third-Person Shoo...</td>\n",
       "      <td>['Requires a 64-bit processor and operating sy...</td>\n",
       "      <td>['Requires a 64-bit processor and operating sy...</td>\n",
       "      <td>9 Sep, 2024</td>\n",
       "      <td>['Saber Interactive']</td>\n",
       "      <td>['Focus Entertainment']</td>\n",
       "      <td>Very Positive</td>\n",
       "      <td>(81% of 62,791) All Time</td>\n",
       "      <td>51,920</td>\n",
       "      <td>https://store.steampowered.com/app/2183900/War...</td>\n",
       "    </tr>\n",
       "    <tr>\n",
       "      <th>3</th>\n",
       "      <td>this game feels like it was made in the mid 20...</td>\n",
       "      <td>16.8</td>\n",
       "      <td>661</td>\n",
       "      <td>15</td>\n",
       "      <td>Recommended</td>\n",
       "      <td>14 September</td>\n",
       "      <td>Warhammer 40,000: Space Marine 2</td>\n",
       "      <td>Fattest_falcon</td>\n",
       "      <td>Embody the superhuman skill and brutality of a...</td>\n",
       "      <td>About This Game\\nEmbody the superhuman skill a...</td>\n",
       "      <td>['Warhammer 40K', 'Action', 'Third-Person Shoo...</td>\n",
       "      <td>['Requires a 64-bit processor and operating sy...</td>\n",
       "      <td>['Requires a 64-bit processor and operating sy...</td>\n",
       "      <td>9 Sep, 2024</td>\n",
       "      <td>['Saber Interactive']</td>\n",
       "      <td>['Focus Entertainment']</td>\n",
       "      <td>Very Positive</td>\n",
       "      <td>(81% of 62,791) All Time</td>\n",
       "      <td>51,920</td>\n",
       "      <td>https://store.steampowered.com/app/2183900/War...</td>\n",
       "    </tr>\n",
       "    <tr>\n",
       "      <th>4</th>\n",
       "      <td>Reminds me of something I've lost. A genuine g...</td>\n",
       "      <td>24.0</td>\n",
       "      <td>557</td>\n",
       "      <td>4</td>\n",
       "      <td>Recommended</td>\n",
       "      <td>12 September</td>\n",
       "      <td>Warhammer 40,000: Space Marine 2</td>\n",
       "      <td>Jek\\n410 products in account</td>\n",
       "      <td>Embody the superhuman skill and brutality of a...</td>\n",
       "      <td>About This Game\\nEmbody the superhuman skill a...</td>\n",
       "      <td>['Warhammer 40K', 'Action', 'Third-Person Shoo...</td>\n",
       "      <td>['Requires a 64-bit processor and operating sy...</td>\n",
       "      <td>['Requires a 64-bit processor and operating sy...</td>\n",
       "      <td>9 Sep, 2024</td>\n",
       "      <td>['Saber Interactive']</td>\n",
       "      <td>['Focus Entertainment']</td>\n",
       "      <td>Very Positive</td>\n",
       "      <td>(81% of 62,791) All Time</td>\n",
       "      <td>51,920</td>\n",
       "      <td>https://store.steampowered.com/app/2183900/War...</td>\n",
       "    </tr>\n",
       "  </tbody>\n",
       "</table>\n",
       "</div>"
      ],
      "text/plain": [
       "                                              review hours_played helpful  \\\n",
       "0  The game itself is also super fun. The PvP and...         39.9   1,152   \n",
       "1  Never cared much about Warhammer until this ga...         91.5     712   \n",
       "2  A salute to all the fallen battle brothers who...         43.3     492   \n",
       "3  this game feels like it was made in the mid 20...         16.8     661   \n",
       "4  Reminds me of something I've lost. A genuine g...         24.0     557   \n",
       "\n",
       "  funny recommendation          date                         game_name  \\\n",
       "0    13    Recommended  14 September  Warhammer 40,000: Space Marine 2   \n",
       "1   116    Recommended  13 September  Warhammer 40,000: Space Marine 2   \n",
       "2    33    Recommended  14 September  Warhammer 40,000: Space Marine 2   \n",
       "3    15    Recommended  14 September  Warhammer 40,000: Space Marine 2   \n",
       "4     4    Recommended  12 September  Warhammer 40,000: Space Marine 2   \n",
       "\n",
       "                             username  \\\n",
       "0  Sentinowl\\n224 products in account   \n",
       "1    userpig\\n248 products in account   \n",
       "2  Imparat0r\\n112 products in account   \n",
       "3                      Fattest_falcon   \n",
       "4        Jek\\n410 products in account   \n",
       "\n",
       "                                   short_description  \\\n",
       "0  Embody the superhuman skill and brutality of a...   \n",
       "1  Embody the superhuman skill and brutality of a...   \n",
       "2  Embody the superhuman skill and brutality of a...   \n",
       "3  Embody the superhuman skill and brutality of a...   \n",
       "4  Embody the superhuman skill and brutality of a...   \n",
       "\n",
       "                                    long_description  \\\n",
       "0  About This Game\\nEmbody the superhuman skill a...   \n",
       "1  About This Game\\nEmbody the superhuman skill a...   \n",
       "2  About This Game\\nEmbody the superhuman skill a...   \n",
       "3  About This Game\\nEmbody the superhuman skill a...   \n",
       "4  About This Game\\nEmbody the superhuman skill a...   \n",
       "\n",
       "                                              genres  \\\n",
       "0  ['Warhammer 40K', 'Action', 'Third-Person Shoo...   \n",
       "1  ['Warhammer 40K', 'Action', 'Third-Person Shoo...   \n",
       "2  ['Warhammer 40K', 'Action', 'Third-Person Shoo...   \n",
       "3  ['Warhammer 40K', 'Action', 'Third-Person Shoo...   \n",
       "4  ['Warhammer 40K', 'Action', 'Third-Person Shoo...   \n",
       "\n",
       "                          minimum_system_requirement  \\\n",
       "0  ['Requires a 64-bit processor and operating sy...   \n",
       "1  ['Requires a 64-bit processor and operating sy...   \n",
       "2  ['Requires a 64-bit processor and operating sy...   \n",
       "3  ['Requires a 64-bit processor and operating sy...   \n",
       "4  ['Requires a 64-bit processor and operating sy...   \n",
       "\n",
       "                        recommend_system_requirement release_date  \\\n",
       "0  ['Requires a 64-bit processor and operating sy...  9 Sep, 2024   \n",
       "1  ['Requires a 64-bit processor and operating sy...  9 Sep, 2024   \n",
       "2  ['Requires a 64-bit processor and operating sy...  9 Sep, 2024   \n",
       "3  ['Requires a 64-bit processor and operating sy...  9 Sep, 2024   \n",
       "4  ['Requires a 64-bit processor and operating sy...  9 Sep, 2024   \n",
       "\n",
       "               developer                publisher overall_player_rating  \\\n",
       "0  ['Saber Interactive']  ['Focus Entertainment']         Very Positive   \n",
       "1  ['Saber Interactive']  ['Focus Entertainment']         Very Positive   \n",
       "2  ['Saber Interactive']  ['Focus Entertainment']         Very Positive   \n",
       "3  ['Saber Interactive']  ['Focus Entertainment']         Very Positive   \n",
       "4  ['Saber Interactive']  ['Focus Entertainment']         Very Positive   \n",
       "\n",
       "  number_of_reviews_from_purchased_people number_of_english_reviews  \\\n",
       "0                (81% of 62,791) All Time                    51,920   \n",
       "1                (81% of 62,791) All Time                    51,920   \n",
       "2                (81% of 62,791) All Time                    51,920   \n",
       "3                (81% of 62,791) All Time                    51,920   \n",
       "4                (81% of 62,791) All Time                    51,920   \n",
       "\n",
       "                                                link  \n",
       "0  https://store.steampowered.com/app/2183900/War...  \n",
       "1  https://store.steampowered.com/app/2183900/War...  \n",
       "2  https://store.steampowered.com/app/2183900/War...  \n",
       "3  https://store.steampowered.com/app/2183900/War...  \n",
       "4  https://store.steampowered.com/app/2183900/War...  "
      ]
     },
     "execution_count": 5,
     "metadata": {},
     "output_type": "execute_result"
    }
   ],
   "source": [
    "description_df.rename(columns={'name': 'game_name'}, inplace=True)\n",
    "\n",
    "merged_df = reviews_df.merge(description_df, on='game_name', how='inner')\n",
    "\n",
    "print(\"Merged Data Sample:\")\n",
    "merged_df.head()"
   ]
  },
  {
   "cell_type": "code",
   "execution_count": 6,
   "metadata": {},
   "outputs": [
    {
     "data": {
      "text/plain": [
       "(925244, 20)"
      ]
     },
     "execution_count": 6,
     "metadata": {},
     "output_type": "execute_result"
    }
   ],
   "source": [
    "merged_df.shape"
   ]
  },
  {
   "cell_type": "markdown",
   "metadata": {},
   "source": [
    "checking for missing values"
   ]
  },
  {
   "cell_type": "code",
   "execution_count": null,
   "metadata": {},
   "outputs": [
    {
     "name": "stdout",
     "output_type": "stream",
     "text": [
      "review                                     486\n",
      "hours_played                                 0\n",
      "helpful                                      0\n",
      "funny                                        0\n",
      "recommendation                               0\n",
      "date                                         0\n",
      "game_name                                    0\n",
      "username                                    78\n",
      "short_description                            0\n",
      "long_description                             0\n",
      "genres                                       0\n",
      "minimum_system_requirement                   0\n",
      "recommend_system_requirement                 0\n",
      "release_date                                 0\n",
      "developer                                    0\n",
      "publisher                                    0\n",
      "overall_player_rating                        0\n",
      "number_of_reviews_from_purchased_people      0\n",
      "number_of_english_reviews                    0\n",
      "link                                         0\n",
      "dtype: int64\n"
     ]
    }
   ],
   "source": [
    "missing_values = merged_df.isnull().sum()\n",
    "print(missing_values)"
   ]
  },
  {
   "cell_type": "markdown",
   "metadata": {},
   "source": [
    "handling missing values"
   ]
  },
  {
   "cell_type": "code",
   "execution_count": null,
   "metadata": {},
   "outputs": [],
   "source": [
    "merged_df['username'] = merged_df['username'].fillna('Unknown')\n",
    "merged_df = merged_df.dropna(subset=['review'])"
   ]
  },
  {
   "cell_type": "code",
   "execution_count": null,
   "metadata": {},
   "outputs": [
    {
     "name": "stderr",
     "output_type": "stream",
     "text": [
      "[nltk_data] Downloading package stopwords to\n",
      "[nltk_data]     C:\\Users\\nima_\\AppData\\Roaming\\nltk_data...\n",
      "[nltk_data]   Package stopwords is already up-to-date!\n"
     ]
    },
    {
     "name": "stdout",
     "output_type": "stream",
     "text": [
      "                                              review  \\\n",
      "0  The game itself is also super fun. The PvP and...   \n",
      "1  Never cared much about Warhammer until this ga...   \n",
      "2  A salute to all the fallen battle brothers who...   \n",
      "3  this game feels like it was made in the mid 20...   \n",
      "4  Reminds me of something I've lost. A genuine g...   \n",
      "\n",
      "                                      cleaned_review  \n",
      "0  game also super fun pvp campaign joy play acti...  \n",
      "1  never cared much warhammer game showed error w...  \n",
      "2  salute fallen battle brothers couldnt us years...  \n",
      "3      game feels like made mid searly like good way  \n",
      "4  reminds something ive lost genuine game good g...  \n"
     ]
    }
   ],
   "source": [
    "# Download stopwords (if not already done)\n",
    "nltk.download('stopwords')\n",
    "\n",
    "# Precompute the stopwords list\n",
    "stop_words = set(stopwords.words('english'))\n",
    "\n",
    "# Define a function for text cleaning\n",
    "def clean_text_optimized(text):\n",
    "    # Convert to lowercase\n",
    "    text = text.lower()\n",
    "    # Remove non-alphabetical characters (keep spaces)\n",
    "    text = re.sub(r'[^a-zA-Z\\s]', '', text)\n",
    "    # Remove stopwords using list comprehension (more efficient)\n",
    "    text = ' '.join([word for word in text.split() if word not in stop_words])\n",
    "    return text\n",
    "\n",
    "# Apply the text cleaning function to the 'review' column (using vectorized operation)\n",
    "merged_df['cleaned_review'] = merged_df['review'].map(clean_text_optimized)\n",
    "\n",
    "# Check a few examples to verify\n",
    "print(merged_df[['review', 'cleaned_review']].head())\n"
   ]
  },
  {
   "cell_type": "code",
   "execution_count": 10,
   "metadata": {},
   "outputs": [
    {
     "name": "stdout",
     "output_type": "stream",
     "text": [
      "Unique Genres: {'Multiple Endings', 'Crime', 'Music', 'Turn-Based Tactics', 'Collectathon', 'Character Customization', 'Racing', 'NSFW', 'Bowling', 'Simulation', 'Resource Management', 'Wrestling', 'Anime', 'Turn-Based Combat', 'Arena Shooter', 'Alternate History', 'Reboot', 'Cycling', 'Strategy RPG', 'Platformer', 'RPGMaker', \"1990's\", 'Hack and Slash', 'Roguelite', 'Battle Royale', 'Singleplayer', 'Hunting', 'Trains', 'Action-Adventure', 'RTS', 'Immersive', 'Dating Sim', '1980s', 'Experimental', 'Artificial Intelligence', 'Zombies', 'Science', 'Hero Shooter', 'Sailing', 'Nudity', 'Transportation', 'Multiplayer', '2.5D', 'Historical', 'Sci-fi', 'Quick-Time Events', 'Violent', '2D Platformer', 'Golf', 'Choose Your Own Adventure', 'Solitaire', 'Score Attack', 'Tennis', 'Life Sim', 'Automobile Sim', 'Action Roguelike', 'Modern', 'Stylized', 'Game Development', 'Naval', 'Politics', 'Dragons', 'Education', 'Automation', 'Cold War', 'Strategy', 'Psychological', 'Time Travel', 'FMV', 'Immersive Sim', 'Superhero', 'Rome', 'Third-Person Shooter', 'JRPG', 'Minigames', 'TrackIR', 'War', 'Warhammer 40K', 'Naval Combat', 'Walking Simulator', 'Replay Value', 'Looter Shooter', 'FPS', 'Survival Horror', 'Level Editor', 'Action', 'Horses', 'Beautiful', 'Cartoon', 'Arcade', 'Western', 'Gore', 'Dwarf', 'Vampire', 'Cyberpunk', 'Magic', 'Memes', 'Inventory Management', '6DOF', 'Base Building', 'CRPG', 'Cute', 'Story Rich', 'Online Co-Op', 'Local Co-Op', 'Stealth', 'Shooter', 'Runner', 'Romance', 'Old School', 'Family Friendly', 'Combat', 'Soundtrack', 'Comic Book', 'Funny', 'Sniper', 'Conversation', 'Mod', 'Pool', 'Text-Based', 'Demons', 'Indie', 'Real-Time with Pause', 'Time Management', 'Outbreak Sim', 'Action RPG', 'Mythology', 'Side Scroller', 'Dark Fantasy', 'Choices Matter', 'Cinematic', 'Dinosaurs', 'America', 'Difficult', 'Spectacle fighter', 'Medieval', 'Tower Defense', 'Voxel', 'BMX', 'Turn-Based', 'Driving', 'Party-Based RPG', 'Remake', 'Tutorial', 'Local Multiplayer', 'Robots', 'Aliens', 'Surreal', '4X', 'Casual', 'Wargame', 'Motorbike', 'Female Protagonist', 'Medical Sim', 'Survival', 'Realistic', 'Party Game', 'Steampunk', '3D Vision', 'Illuminati', 'Great Soundtrack', 'Colorful', '4 Player Local', 'Space Sim', 'Mini Golf', 'Third Person', 'Farming', 'Skiing', 'Space', 'Dungeon Crawler', 'Dark', 'Minimalist', 'Skateboarding', 'Gambling', 'Drama', 'Early Access', 'PvP', 'Rhythm', 'Real-Time', 'Underwater', 'Farming Sim', 'Football (American)', '3D Fighter', 'Party', 'Extraction Shooter', 'RPG', 'Procedural Generation', 'Bikes', 'Tabletop', 'Martial Arts', 'Football (Soccer)', 'Military', 'Open World Survival Craft', 'Tactical', 'Tanks', 'Mouse only', 'Roguelike', 'VR', 'Swordplay', 'Mining', 'Trading', 'Futuristic', 'Moddable', 'Sandbox', 'Trading Card Game', 'Ninja', \"Beat 'em up\", 'Fishing', 'Social Deduction', 'Perma Death', 'Deckbuilding', 'Lovecraftian', 'Open World', 'Political', 'Basketball', 'Split Screen', 'City Builder', 'Souls-like', 'Class-Based', 'Post-apocalyptic', 'Relaxing', 'Dark Comedy', 'Vehicular Combat', 'Photo Editing', 'Assassin', 'Diplomacy', 'Creature Collector', 'Sexual Content', 'Skating', 'Bullet Hell', 'Baseball', 'Free to Play', 'Cozy', 'Metroidvania', 'Gun Customization', 'Vikings', 'Emotional', 'Time Manipulation', 'Nonlinear', 'Archery', 'Sports', 'Agriculture', 'Turn-Based Strategy', 'Utilities', '3D Platformer', 'Hand-drawn', 'Competitive', 'Fighting', 'Offroad', 'Exploration', 'Parkour', 'Heist', 'Touch-Friendly', 'World War I', 'PvE', 'Nature', 'Mechs', 'Blood', 'Grand Strategy', 'Logic', 'Roguelike Deckbuilder', 'Investigation', 'Capitalism', 'Addictive', 'Card Battler', 'Thriller', 'Isometric', 'Wholesome', 'Visual Novel', 'Economy', 'ATV', 'Combat Racing', 'Classic', 'Retro', 'eSports', 'Colony Sim', 'Boxing', 'Sequel', '2D', 'Short', 'Hex Grid', 'Adventure', 'Crafting', 'Comedy', 'Hacking', 'Action RTS', 'Puzzle Platformer', 'Animation & Modeling', 'Flight', 'MMORPG', 'Co-op Campaign', 'Destruction', 'Auto Battler', 'First-Person', '3D', 'Real Time Tactics', 'Horror', 'Puzzle', 'Lore-Rich', 'Cooking', 'Controller', 'Fast-Paced', 'Top-Down', 'Atmospheric', 'Card Game', 'Board Game', 'Pirates', 'Team-Based', 'Building', 'Pixel Graphics', 'Massively Multiplayer', 'Design & Illustration', 'Mystery', 'Management', 'Snow', 'Loot', 'Games Workshop', 'Snowboarding', 'Physics', 'Tactical RPG', 'Point & Click', 'Cartoony', 'Mature', 'World War II', 'Software', 'Fantasy', 'Epic', 'Motocross', 'Psychological Horror', 'Gothic', 'LGBTQ+', 'Narration', 'Dark Humor', 'Dystopian', 'Gaming', 'Co-op'}\n"
     ]
    }
   ],
   "source": [
    "import ast\n",
    "\n",
    "# Convert the genres column from string to list\n",
    "merged_df['genres'] = merged_df['genres'].apply(lambda x: ast.literal_eval(x) if isinstance(x, str) else x)\n",
    "\n",
    "# Check unique genres\n",
    "all_genres = set([genre for sublist in merged_df['genres'] for genre in sublist])\n",
    "print(f\"Unique Genres: {all_genres}\")\n"
   ]
  },
  {
   "cell_type": "code",
   "execution_count": 11,
   "metadata": {},
   "outputs": [
    {
     "name": "stdout",
     "output_type": "stream",
     "text": [
      "Genre one-hot encoded columns: ['1980s' \"1990's\" '2.5D' '2D' '2D Platformer' '3D' '3D Fighter'\n",
      " '3D Platformer' '3D Vision' '4 Player Local' '4X' '6DOF' 'ATV' 'Action'\n",
      " 'Action RPG' 'Action RTS' 'Action Roguelike' 'Action-Adventure'\n",
      " 'Addictive' 'Adventure' 'Agriculture' 'Aliens' 'Alternate History'\n",
      " 'America' 'Animation & Modeling' 'Anime' 'Arcade' 'Archery'\n",
      " 'Arena Shooter' 'Artificial Intelligence' 'Assassin' 'Atmospheric'\n",
      " 'Auto Battler' 'Automation' 'Automobile Sim' 'BMX' 'Base Building'\n",
      " 'Baseball' 'Basketball' 'Battle Royale' \"Beat 'em up\" 'Beautiful' 'Bikes'\n",
      " 'Blood' 'Board Game' 'Bowling' 'Boxing' 'Building' 'Bullet Hell' 'CRPG'\n",
      " 'Capitalism' 'Card Battler' 'Card Game' 'Cartoon' 'Cartoony' 'Casual'\n",
      " 'Character Customization' 'Choices Matter' 'Choose Your Own Adventure'\n",
      " 'Cinematic' 'City Builder' 'Class-Based' 'Classic' 'Co-op'\n",
      " 'Co-op Campaign' 'Cold War' 'Collectathon' 'Colony Sim' 'Colorful'\n",
      " 'Combat' 'Combat Racing' 'Comedy' 'Comic Book' 'Competitive' 'Controller'\n",
      " 'Conversation' 'Cooking' 'Cozy' 'Crafting' 'Creature Collector' 'Crime'\n",
      " 'Cute' 'Cyberpunk' 'Cycling' 'Dark' 'Dark Comedy' 'Dark Fantasy'\n",
      " 'Dark Humor' 'Dating Sim' 'Deckbuilding' 'Demons' 'Design & Illustration'\n",
      " 'Destruction' 'Difficult' 'Dinosaurs' 'Diplomacy' 'Dragons' 'Drama'\n",
      " 'Driving' 'Dungeon Crawler' 'Dwarf' 'Dystopian' 'Early Access' 'Economy'\n",
      " 'Education' 'Emotional' 'Epic' 'Experimental' 'Exploration'\n",
      " 'Extraction Shooter' 'FMV' 'FPS' 'Family Friendly' 'Fantasy' 'Farming'\n",
      " 'Farming Sim' 'Fast-Paced' 'Female Protagonist' 'Fighting' 'First-Person'\n",
      " 'Fishing' 'Flight' 'Football (American)' 'Football (Soccer)'\n",
      " 'Free to Play' 'Funny' 'Futuristic' 'Gambling' 'Game Development'\n",
      " 'Games Workshop' 'Gaming' 'Golf' 'Gore' 'Gothic' 'Grand Strategy'\n",
      " 'Great Soundtrack' 'Gun Customization' 'Hack and Slash' 'Hacking'\n",
      " 'Hand-drawn' 'Heist' 'Hero Shooter' 'Hex Grid' 'Historical' 'Horror'\n",
      " 'Horses' 'Hunting' 'Illuminati' 'Immersive' 'Immersive Sim' 'Indie'\n",
      " 'Inventory Management' 'Investigation' 'Isometric' 'JRPG' 'LGBTQ+'\n",
      " 'Level Editor' 'Life Sim' 'Local Co-Op' 'Local Multiplayer' 'Logic'\n",
      " 'Loot' 'Looter Shooter' 'Lore-Rich' 'Lovecraftian' 'MMORPG' 'Magic'\n",
      " 'Management' 'Martial Arts' 'Massively Multiplayer' 'Mature' 'Mechs'\n",
      " 'Medical Sim' 'Medieval' 'Memes' 'Metroidvania' 'Military' 'Mini Golf'\n",
      " 'Minigames' 'Minimalist' 'Mining' 'Mod' 'Moddable' 'Modern' 'Motocross'\n",
      " 'Motorbike' 'Mouse only' 'Multiplayer' 'Multiple Endings' 'Music'\n",
      " 'Mystery' 'Mythology' 'NSFW' 'Narration' 'Nature' 'Naval' 'Naval Combat'\n",
      " 'Ninja' 'Nonlinear' 'Nudity' 'Offroad' 'Old School' 'Online Co-Op'\n",
      " 'Open World' 'Open World Survival Craft' 'Outbreak Sim' 'Parkour' 'Party'\n",
      " 'Party Game' 'Party-Based RPG' 'Perma Death' 'Photo Editing' 'Physics'\n",
      " 'Pirates' 'Pixel Graphics' 'Platformer' 'Point & Click' 'Political'\n",
      " 'Politics' 'Pool' 'Post-apocalyptic' 'Procedural Generation'\n",
      " 'Psychological' 'Psychological Horror' 'Puzzle' 'Puzzle Platformer' 'PvE'\n",
      " 'PvP' 'Quick-Time Events' 'RPG' 'RPGMaker' 'RTS' 'Racing'\n",
      " 'Real Time Tactics' 'Real-Time' 'Real-Time with Pause' 'Realistic'\n",
      " 'Reboot' 'Relaxing' 'Remake' 'Replay Value' 'Resource Management' 'Retro'\n",
      " 'Rhythm' 'Robots' 'Roguelike' 'Roguelike Deckbuilder' 'Roguelite'\n",
      " 'Romance' 'Rome' 'Runner' 'Sailing' 'Sandbox' 'Sci-fi' 'Science'\n",
      " 'Score Attack' 'Sequel' 'Sexual Content' 'Shooter' 'Short'\n",
      " 'Side Scroller' 'Simulation' 'Singleplayer' 'Skateboarding' 'Skating'\n",
      " 'Skiing' 'Sniper' 'Snow' 'Snowboarding' 'Social Deduction' 'Software'\n",
      " 'Solitaire' 'Souls-like' 'Soundtrack' 'Space' 'Space Sim'\n",
      " 'Spectacle fighter' 'Split Screen' 'Sports' 'Stealth' 'Steampunk'\n",
      " 'Story Rich' 'Strategy' 'Strategy RPG' 'Stylized' 'Superhero' 'Surreal'\n",
      " 'Survival' 'Survival Horror' 'Swordplay' 'Tabletop' 'Tactical'\n",
      " 'Tactical RPG' 'Tanks' 'Team-Based' 'Tennis' 'Text-Based' 'Third Person'\n",
      " 'Third-Person Shooter' 'Thriller' 'Time Management' 'Time Manipulation'\n",
      " 'Time Travel' 'Top-Down' 'Touch-Friendly' 'Tower Defense' 'TrackIR'\n",
      " 'Trading' 'Trading Card Game' 'Trains' 'Transportation' 'Turn-Based'\n",
      " 'Turn-Based Combat' 'Turn-Based Strategy' 'Turn-Based Tactics' 'Tutorial'\n",
      " 'Underwater' 'Utilities' 'VR' 'Vampire' 'Vehicular Combat' 'Vikings'\n",
      " 'Violent' 'Visual Novel' 'Voxel' 'Walking Simulator' 'War' 'Wargame'\n",
      " 'Warhammer 40K' 'Western' 'Wholesome' 'World War I' 'World War II'\n",
      " 'Wrestling' 'Zombies' 'eSports']\n",
      "   1980s  1990's  2.5D   2D  2D Platformer   3D  3D Fighter  3D Platformer  \\\n",
      "0    0.0     0.0   0.0  0.0            0.0  1.0         0.0            0.0   \n",
      "1    0.0     0.0   0.0  0.0            0.0  1.0         0.0            0.0   \n",
      "2    0.0     0.0   0.0  0.0            0.0  1.0         0.0            0.0   \n",
      "3    0.0     0.0   0.0  0.0            0.0  1.0         0.0            0.0   \n",
      "4    0.0     0.0   0.0  0.0            0.0  1.0         0.0            0.0   \n",
      "\n",
      "   3D Vision  4 Player Local  ...  War  Wargame  Warhammer 40K  Western  \\\n",
      "0        0.0             0.0  ...  1.0      1.0            1.0      0.0   \n",
      "1        0.0             0.0  ...  1.0      1.0            1.0      0.0   \n",
      "2        0.0             0.0  ...  1.0      1.0            1.0      0.0   \n",
      "3        0.0             0.0  ...  1.0      1.0            1.0      0.0   \n",
      "4        0.0             0.0  ...  1.0      1.0            1.0      0.0   \n",
      "\n",
      "   Wholesome  World War I  World War II  Wrestling  Zombies  eSports  \n",
      "0        0.0          0.0           0.0        0.0      0.0      0.0  \n",
      "1        0.0          0.0           0.0        0.0      0.0      0.0  \n",
      "2        0.0          0.0           0.0        0.0      0.0      0.0  \n",
      "3        0.0          0.0           0.0        0.0      0.0      0.0  \n",
      "4        0.0          0.0           0.0        0.0      0.0      0.0  \n",
      "\n",
      "[5 rows x 336 columns]\n",
      "Number of unique genres: 336\n",
      "Number of one-hot columns: 336\n"
     ]
    }
   ],
   "source": [
    "from sklearn.preprocessing import MultiLabelBinarizer\n",
    "\n",
    "# One-hot encode the genres\n",
    "mlb = MultiLabelBinarizer()\n",
    "genres_one_hot = mlb.fit_transform(merged_df['genres'])\n",
    "\n",
    "# Add the one-hot encoded genres back to the dataframe for reference\n",
    "genre_columns = mlb.classes_\n",
    "genres_df = pd.DataFrame(genres_one_hot, columns=genre_columns)\n",
    "merged_df = pd.concat([merged_df, genres_df], axis=1)\n",
    "\n",
    "print(\"Genre one-hot encoded columns:\", genre_columns)\n",
    "print(merged_df[genre_columns].head())\n",
    "print(f\"Number of unique genres: {len(all_genres)}\")\n",
    "print(f\"Number of one-hot columns: {len(genre_columns)}\")"
   ]
  },
  {
   "cell_type": "markdown",
   "metadata": {},
   "source": [
    "Sentiment Analysis"
   ]
  },
  {
   "cell_type": "code",
   "execution_count": 12,
   "metadata": {},
   "outputs": [
    {
     "name": "stdout",
     "output_type": "stream",
     "text": [
      "                                      cleaned_review  sentiment_score  \\\n",
      "0  game also super fun pvp campaign joy play acti...         0.144444   \n",
      "1  never cared much warhammer game showed error w...        -0.144583   \n",
      "2  salute fallen battle brothers couldnt us years...         0.265625   \n",
      "3      game feels like made mid searly like good way         0.100000   \n",
      "4  reminds something ive lost genuine game good g...         0.114286   \n",
      "\n",
      "  sentiment_label  \n",
      "0        positive  \n",
      "1        negative  \n",
      "2        positive  \n",
      "3        positive  \n",
      "4        positive  \n"
     ]
    }
   ],
   "source": [
    "from textblob import TextBlob\n",
    "\n",
    "merged_df['cleaned_review'] = merged_df['cleaned_review'].fillna('').astype(str)\n",
    "merged_df['sentiment_score'] = merged_df['cleaned_review'].apply(lambda x: TextBlob(x).sentiment.polarity)\n",
    "merged_df['sentiment_label'] = merged_df['sentiment_score'].apply(lambda x: 'positive' if x > 0 else 'negative')\n",
    "print(merged_df[['cleaned_review', 'sentiment_score', 'sentiment_label']].head())\n"
   ]
  },
  {
   "cell_type": "markdown",
   "metadata": {},
   "source": [
    "Handle 'hours_played' column"
   ]
  },
  {
   "cell_type": "code",
   "execution_count": 13,
   "metadata": {},
   "outputs": [],
   "source": [
    "merged_df['hours_played'] = pd.to_numeric(merged_df['hours_played'], errors='coerce')\n",
    "merged_df['hours_played'] = merged_df['hours_played'].fillna(0)"
   ]
  },
  {
   "cell_type": "code",
   "execution_count": 14,
   "metadata": {},
   "outputs": [],
   "source": [
    "from sklearn.model_selection import train_test_split\n",
    "from sklearn.ensemble import RandomForestClassifier\n",
    "from sklearn.metrics import accuracy_score, precision_score, recall_score, f1_score, roc_auc_score\n",
    "from sklearn.impute import SimpleImputer\n",
    "import pickle\n",
    "\n",
    "X_lr = merged_df[['sentiment_score', 'hours_played']]\n",
    "X_lr = pd.concat([X_lr, genres_df], axis=1)\n",
    "y_lr = (merged_df['sentiment_label'] == 'positive').astype(int)\n",
    "\n",
    "# Impute missing values if any\n",
    "imputer_lr = SimpleImputer(strategy='mean')\n",
    "X_lr = pd.DataFrame(imputer_lr.fit_transform(X_lr), columns=X_lr.columns)\n",
    "\n",
    "# Normalize 'hours_played'\n",
    "X_lr['hours_played'] = X_lr['hours_played'] / X_lr['hours_played'].max()\n",
    "\n",
    "# Save the feature list and imputer for Logistic Regression\n",
    "feature_list_lr = X_lr.columns.tolist()\n",
    "with open('feature_list_lr.pkl', 'wb') as f:\n",
    "    pickle.dump(feature_list_lr, f)\n",
    "\n",
    "with open('imputer_lr.pkl', 'wb') as f:\n",
    "    pickle.dump(imputer_lr, f)\n",
    "    \n",
    "# Split data for Logistic Regression\n",
    "X_train_lr, X_temp_lr, y_train_lr, y_temp_lr = train_test_split(X_lr, y_lr, test_size=0.3, random_state=42)\n",
    "X_val_lr, X_test_lr, y_val_lr, y_test_lr = train_test_split(X_temp_lr, y_temp_lr, test_size=0.5, random_state=42)\n"
   ]
  },
  {
   "cell_type": "code",
   "execution_count": 16,
   "metadata": {},
   "outputs": [
    {
     "name": "stdout",
     "output_type": "stream",
     "text": [
      "Logistic Regression Model Evaluation (Validation Set - Threshold 0.20):\n",
      "Accuracy: 0.9915\n",
      "Precision: 0.9963\n",
      "Recall: 0.9892\n",
      "F1-Score: 0.9927\n"
     ]
    }
   ],
   "source": [
    "from sklearn.model_selection import train_test_split\n",
    "from sklearn.metrics import precision_score, recall_score, f1_score, accuracy_score\n",
    "from sklearn.linear_model import LogisticRegression\n",
    "from sklearn.impute import SimpleImputer\n",
    "import pandas as pd\n",
    "\n",
    "# Train Logistic Regression\n",
    "model_lr = LogisticRegression(class_weight='balanced', random_state=42, max_iter=1000)\n",
    "model_lr.fit(X_train_lr, y_train_lr)\n",
    "\n",
    "# Step 7: Apply the threshold of 0.20\n",
    "# Validate Logistic Regression\n",
    "y_val_pred_proba_lr = model_lr.predict_proba(X_val_lr)[:, 1]\n",
    "custom_threshold_lr = 0.20\n",
    "y_val_pred_thresh_lr = (y_val_pred_proba_lr >= custom_threshold_lr).astype(int)\n",
    "\n",
    "val_accuracy_lr = accuracy_score(y_val_lr, y_val_pred_thresh_lr)\n",
    "val_precision_lr = precision_score(y_val_lr, y_val_pred_thresh_lr)\n",
    "val_recall_lr = recall_score(y_val_lr, y_val_pred_thresh_lr)\n",
    "val_f1_lr = f1_score(y_val_lr, y_val_pred_thresh_lr)\n",
    "\n",
    "print(\"Logistic Regression Model Evaluation (Validation Set - Threshold 0.20):\")\n",
    "print(f\"Accuracy: {val_accuracy_lr:.4f}\")\n",
    "print(f\"Precision: {val_precision_lr:.4f}\")\n",
    "print(f\"Recall: {val_recall_lr:.4f}\")\n",
    "print(f\"F1-Score: {val_f1_lr:.4f}\")"
   ]
  },
  {
   "cell_type": "markdown",
   "metadata": {},
   "source": [
    "The results for the Logistic Regression model indicate a strong performance, with:\n",
    "\n",
    "Accuracy: 98.36% — a high proportion of correctly classified samples.\n",
    "Precision: 100% — the model was perfect in identifying true positives (no false positives).\n",
    "Recall: 97.21% — the model correctly identified most true positives but missed some.\n",
    "F1-Score: 98.59% — a harmonic mean of precision and recall, showing a balance.\n",
    "Analysis:\n",
    "Strengths:\n",
    "\n",
    "The precision is perfect, meaning that when the model predicts a positive label, it is always correct.\n",
    "High accuracy and F1-score indicate a good overall balance between precision and recall.\n",
    "Weaknesses:\n",
    "\n",
    "Slightly lower recall (97.21%) suggests the model might be missing some true positives (e.g., identifying fewer positive sentiment cases)."
   ]
  },
  {
   "cell_type": "code",
   "execution_count": 17,
   "metadata": {},
   "outputs": [
    {
     "name": "stdout",
     "output_type": "stream",
     "text": [
      "\n",
      "Logistic Regression Model Evaluation (Test Set - Threshold 0.20):\n",
      "Accuracy: 0.9913\n",
      "Precision: 0.9965\n",
      "Recall: 0.9886\n",
      "F1-Score: 0.9925\n"
     ]
    }
   ],
   "source": [
    "\n",
    "# Test Logistic Regression\n",
    "y_test_pred_proba_lr = model_lr.predict_proba(X_test_lr)[:, 1]\n",
    "y_test_pred_thresh_lr = (y_test_pred_proba_lr >= custom_threshold_lr).astype(int)\n",
    "\n",
    "test_accuracy_lr = accuracy_score(y_test_lr, y_test_pred_thresh_lr)\n",
    "test_precision_lr = precision_score(y_test_lr, y_test_pred_thresh_lr)\n",
    "test_recall_lr = recall_score(y_test_lr, y_test_pred_thresh_lr)\n",
    "test_f1_lr = f1_score(y_test_lr, y_test_pred_thresh_lr)\n",
    "\n",
    "print(\"\\nLogistic Regression Model Evaluation (Test Set - Threshold 0.20):\")\n",
    "print(f\"Accuracy: {test_accuracy_lr:.4f}\")\n",
    "print(f\"Precision: {test_precision_lr:.4f}\")\n",
    "print(f\"Recall: {test_recall_lr:.4f}\")\n",
    "print(f\"F1-Score: {test_f1_lr:.4f}\")"
   ]
  },
  {
   "cell_type": "markdown",
   "metadata": {},
   "source": [
    "Input Layer: The input shape is the number of features in your dataset (in this case, it's the number of columns after preprocessing).\n",
    "Hidden Layers: We use two dense layers with ReLU activation, but you can experiment with more layers or different architectures.\n",
    "Output Layer: A single neuron with a sigmoid activation function, which outputs values between 0 and 1 (for binary classification).\n",
    "Optimizer: adam, commonly used for its efficiency.\n",
    "Loss Function: binary_crossentropy (suitable for binary classification problems).\n",
    "Evaluation Metric: We use accuracy here, but we will also track precision, recall, and F1-score later."
   ]
  },
  {
   "cell_type": "code",
   "execution_count": 19,
   "metadata": {},
   "outputs": [
    {
     "name": "stderr",
     "output_type": "stream",
     "text": [
      "c:\\Python312\\Lib\\site-packages\\keras\\src\\layers\\core\\input_layer.py:26: UserWarning: Argument `input_shape` is deprecated. Use `shape` instead.\n",
      "  warnings.warn(\n"
     ]
    },
    {
     "data": {
      "text/html": [
       "<pre style=\"white-space:pre;overflow-x:auto;line-height:normal;font-family:Menlo,'DejaVu Sans Mono',consolas,'Courier New',monospace\"><span style=\"font-weight: bold\">Model: \"sequential\"</span>\n",
       "</pre>\n"
      ],
      "text/plain": [
       "\u001b[1mModel: \"sequential\"\u001b[0m\n"
      ]
     },
     "metadata": {},
     "output_type": "display_data"
    },
    {
     "data": {
      "text/html": [
       "<pre style=\"white-space:pre;overflow-x:auto;line-height:normal;font-family:Menlo,'DejaVu Sans Mono',consolas,'Courier New',monospace\">┏━━━━━━━━━━━━━━━━━━━━━━━━━━━━━━━━━┳━━━━━━━━━━━━━━━━━━━━━━━━┳━━━━━━━━━━━━━━━┓\n",
       "┃<span style=\"font-weight: bold\"> Layer (type)                    </span>┃<span style=\"font-weight: bold\"> Output Shape           </span>┃<span style=\"font-weight: bold\">       Param # </span>┃\n",
       "┡━━━━━━━━━━━━━━━━━━━━━━━━━━━━━━━━━╇━━━━━━━━━━━━━━━━━━━━━━━━╇━━━━━━━━━━━━━━━┩\n",
       "│ dense (<span style=\"color: #0087ff; text-decoration-color: #0087ff\">Dense</span>)                   │ (<span style=\"color: #00d7ff; text-decoration-color: #00d7ff\">None</span>, <span style=\"color: #00af00; text-decoration-color: #00af00\">128</span>)            │        <span style=\"color: #00af00; text-decoration-color: #00af00\">43,392</span> │\n",
       "├─────────────────────────────────┼────────────────────────┼───────────────┤\n",
       "│ dense_1 (<span style=\"color: #0087ff; text-decoration-color: #0087ff\">Dense</span>)                 │ (<span style=\"color: #00d7ff; text-decoration-color: #00d7ff\">None</span>, <span style=\"color: #00af00; text-decoration-color: #00af00\">64</span>)             │         <span style=\"color: #00af00; text-decoration-color: #00af00\">8,256</span> │\n",
       "├─────────────────────────────────┼────────────────────────┼───────────────┤\n",
       "│ dense_2 (<span style=\"color: #0087ff; text-decoration-color: #0087ff\">Dense</span>)                 │ (<span style=\"color: #00d7ff; text-decoration-color: #00d7ff\">None</span>, <span style=\"color: #00af00; text-decoration-color: #00af00\">1</span>)              │            <span style=\"color: #00af00; text-decoration-color: #00af00\">65</span> │\n",
       "└─────────────────────────────────┴────────────────────────┴───────────────┘\n",
       "</pre>\n"
      ],
      "text/plain": [
       "┏━━━━━━━━━━━━━━━━━━━━━━━━━━━━━━━━━┳━━━━━━━━━━━━━━━━━━━━━━━━┳━━━━━━━━━━━━━━━┓\n",
       "┃\u001b[1m \u001b[0m\u001b[1mLayer (type)                   \u001b[0m\u001b[1m \u001b[0m┃\u001b[1m \u001b[0m\u001b[1mOutput Shape          \u001b[0m\u001b[1m \u001b[0m┃\u001b[1m \u001b[0m\u001b[1m      Param #\u001b[0m\u001b[1m \u001b[0m┃\n",
       "┡━━━━━━━━━━━━━━━━━━━━━━━━━━━━━━━━━╇━━━━━━━━━━━━━━━━━━━━━━━━╇━━━━━━━━━━━━━━━┩\n",
       "│ dense (\u001b[38;5;33mDense\u001b[0m)                   │ (\u001b[38;5;45mNone\u001b[0m, \u001b[38;5;34m128\u001b[0m)            │        \u001b[38;5;34m43,392\u001b[0m │\n",
       "├─────────────────────────────────┼────────────────────────┼───────────────┤\n",
       "│ dense_1 (\u001b[38;5;33mDense\u001b[0m)                 │ (\u001b[38;5;45mNone\u001b[0m, \u001b[38;5;34m64\u001b[0m)             │         \u001b[38;5;34m8,256\u001b[0m │\n",
       "├─────────────────────────────────┼────────────────────────┼───────────────┤\n",
       "│ dense_2 (\u001b[38;5;33mDense\u001b[0m)                 │ (\u001b[38;5;45mNone\u001b[0m, \u001b[38;5;34m1\u001b[0m)              │            \u001b[38;5;34m65\u001b[0m │\n",
       "└─────────────────────────────────┴────────────────────────┴───────────────┘\n"
      ]
     },
     "metadata": {},
     "output_type": "display_data"
    },
    {
     "data": {
      "text/html": [
       "<pre style=\"white-space:pre;overflow-x:auto;line-height:normal;font-family:Menlo,'DejaVu Sans Mono',consolas,'Courier New',monospace\"><span style=\"font-weight: bold\"> Total params: </span><span style=\"color: #00af00; text-decoration-color: #00af00\">51,713</span> (202.00 KB)\n",
       "</pre>\n"
      ],
      "text/plain": [
       "\u001b[1m Total params: \u001b[0m\u001b[38;5;34m51,713\u001b[0m (202.00 KB)\n"
      ]
     },
     "metadata": {},
     "output_type": "display_data"
    },
    {
     "data": {
      "text/html": [
       "<pre style=\"white-space:pre;overflow-x:auto;line-height:normal;font-family:Menlo,'DejaVu Sans Mono',consolas,'Courier New',monospace\"><span style=\"font-weight: bold\"> Trainable params: </span><span style=\"color: #00af00; text-decoration-color: #00af00\">51,713</span> (202.00 KB)\n",
       "</pre>\n"
      ],
      "text/plain": [
       "\u001b[1m Trainable params: \u001b[0m\u001b[38;5;34m51,713\u001b[0m (202.00 KB)\n"
      ]
     },
     "metadata": {},
     "output_type": "display_data"
    },
    {
     "data": {
      "text/html": [
       "<pre style=\"white-space:pre;overflow-x:auto;line-height:normal;font-family:Menlo,'DejaVu Sans Mono',consolas,'Courier New',monospace\"><span style=\"font-weight: bold\"> Non-trainable params: </span><span style=\"color: #00af00; text-decoration-color: #00af00\">0</span> (0.00 B)\n",
       "</pre>\n"
      ],
      "text/plain": [
       "\u001b[1m Non-trainable params: \u001b[0m\u001b[38;5;34m0\u001b[0m (0.00 B)\n"
      ]
     },
     "metadata": {},
     "output_type": "display_data"
    }
   ],
   "source": [
    "import tensorflow as tf\n",
    "from tensorflow.keras import layers, models\n",
    "from sklearn.preprocessing import StandardScaler\n",
    "\n",
    "\n",
    "merged_df['normalized_hours_played'] = merged_df['hours_played'] / merged_df['hours_played'].max()\n",
    "\n",
    "# Step 11: Feature Engineering for Deep Learning Model\n",
    "X_dl = merged_df[['sentiment_score', 'normalized_hours_played']]\n",
    "X_dl = pd.concat([X_dl, genres_df], axis=1)\n",
    "y_dl = (merged_df['sentiment_label'] == 'positive').astype(int)\n",
    "\n",
    "# Ensure no missing values\n",
    "imputer_dl = SimpleImputer(strategy='mean')\n",
    "X_dl = pd.DataFrame(imputer_dl.fit_transform(X_dl), columns=X_dl.columns)\n",
    "\n",
    "# Split data for Deep Learning\n",
    "X_train_dl, X_temp_dl, y_train_dl, y_temp_dl = train_test_split(X_dl, y_dl, test_size=0.3, random_state=42)\n",
    "X_val_dl, X_test_dl, y_val_dl, y_test_dl = train_test_split(X_temp_dl, y_temp_dl, test_size=0.5, random_state=42)\n",
    "\n",
    "# Scale features\n",
    "scaler_dl = StandardScaler()\n",
    "X_train_dl_scaled = scaler_dl.fit_transform(X_train_dl)\n",
    "X_val_dl_scaled = scaler_dl.transform(X_val_dl)\n",
    "X_test_dl_scaled = scaler_dl.transform(X_test_dl)\n",
    "\n",
    "# Save the scaler and feature list for Deep Learning\n",
    "feature_list_dl = X_dl.columns.tolist()\n",
    "with open('feature_list_dl.pkl', 'wb') as f:\n",
    "    pickle.dump(feature_list_dl, f)\n",
    "\n",
    "with open('scaler_dl.pkl', 'wb') as f:\n",
    "    pickle.dump(scaler_dl, f)\n",
    "\n",
    "# Train Deep Learning Model\n",
    "model_nn = models.Sequential()\n",
    "model_nn.add(layers.InputLayer(input_shape=(X_train_dl_scaled.shape[1],)))\n",
    "model_nn.add(layers.Dense(128, activation='relu'))\n",
    "model_nn.add(layers.Dense(64, activation='relu'))\n",
    "model_nn.add(layers.Dense(1, activation='sigmoid'))\n",
    "\n",
    "model_nn.compile(optimizer='adam', loss='binary_crossentropy', metrics=['accuracy'])\n",
    "\n",
    "model_nn.summary()\n"
   ]
  },
  {
   "cell_type": "markdown",
   "metadata": {},
   "source": [
    "Epochs: How many times to iterate through the entire dataset. 20 is a good starting point.\n",
    "Batch Size: The number of samples per gradient update. A typical value is 32.\n",
    "Validation Data: This allows the model to check its performance on unseen data after each epoch."
   ]
  },
  {
   "cell_type": "code",
   "execution_count": 20,
   "metadata": {},
   "outputs": [
    {
     "name": "stdout",
     "output_type": "stream",
     "text": [
      "Epoch 1/20\n",
      "\u001b[1m20240/20240\u001b[0m \u001b[32m━━━━━━━━━━━━━━━━━━━━\u001b[0m\u001b[37m\u001b[0m \u001b[1m28s\u001b[0m 1ms/step - accuracy: 0.9291 - loss: 0.1581 - val_accuracy: 0.9743 - val_loss: 0.0654\n",
      "Epoch 2/20\n",
      "\u001b[1m20240/20240\u001b[0m \u001b[32m━━━━━━━━━━━━━━━━━━━━\u001b[0m\u001b[37m\u001b[0m \u001b[1m22s\u001b[0m 1ms/step - accuracy: 0.9774 - loss: 0.0604 - val_accuracy: 0.9819 - val_loss: 0.0505\n",
      "Epoch 3/20\n",
      "\u001b[1m20240/20240\u001b[0m \u001b[32m━━━━━━━━━━━━━━━━━━━━\u001b[0m\u001b[37m\u001b[0m \u001b[1m22s\u001b[0m 1ms/step - accuracy: 0.9818 - loss: 0.0498 - val_accuracy: 0.9830 - val_loss: 0.0465\n",
      "Epoch 4/20\n",
      "\u001b[1m20240/20240\u001b[0m \u001b[32m━━━━━━━━━━━━━━━━━━━━\u001b[0m\u001b[37m\u001b[0m \u001b[1m22s\u001b[0m 1ms/step - accuracy: 0.9835 - loss: 0.0453 - val_accuracy: 0.9821 - val_loss: 0.0478\n",
      "Epoch 5/20\n",
      "\u001b[1m20240/20240\u001b[0m \u001b[32m━━━━━━━━━━━━━━━━━━━━\u001b[0m\u001b[37m\u001b[0m \u001b[1m22s\u001b[0m 1ms/step - accuracy: 0.9846 - loss: 0.0427 - val_accuracy: 0.9843 - val_loss: 0.0466\n",
      "Epoch 6/20\n",
      "\u001b[1m20240/20240\u001b[0m \u001b[32m━━━━━━━━━━━━━━━━━━━━\u001b[0m\u001b[37m\u001b[0m \u001b[1m22s\u001b[0m 1ms/step - accuracy: 0.9861 - loss: 0.0401 - val_accuracy: 0.9876 - val_loss: 0.0367\n",
      "Epoch 7/20\n",
      "\u001b[1m20240/20240\u001b[0m \u001b[32m━━━━━━━━━━━━━━━━━━━━\u001b[0m\u001b[37m\u001b[0m \u001b[1m22s\u001b[0m 1ms/step - accuracy: 0.9867 - loss: 0.0381 - val_accuracy: 0.9889 - val_loss: 0.0343\n",
      "Epoch 8/20\n",
      "\u001b[1m20240/20240\u001b[0m \u001b[32m━━━━━━━━━━━━━━━━━━━━\u001b[0m\u001b[37m\u001b[0m \u001b[1m22s\u001b[0m 1ms/step - accuracy: 0.9874 - loss: 0.0365 - val_accuracy: 0.9888 - val_loss: 0.0317\n",
      "Epoch 9/20\n",
      "\u001b[1m20240/20240\u001b[0m \u001b[32m━━━━━━━━━━━━━━━━━━━━\u001b[0m\u001b[37m\u001b[0m \u001b[1m22s\u001b[0m 1ms/step - accuracy: 0.9878 - loss: 0.0353 - val_accuracy: 0.9853 - val_loss: 0.0379\n",
      "Epoch 10/20\n",
      "\u001b[1m20240/20240\u001b[0m \u001b[32m━━━━━━━━━━━━━━━━━━━━\u001b[0m\u001b[37m\u001b[0m \u001b[1m22s\u001b[0m 1ms/step - accuracy: 0.9881 - loss: 0.0348 - val_accuracy: 0.9848 - val_loss: 0.0356\n",
      "Epoch 11/20\n",
      "\u001b[1m20240/20240\u001b[0m \u001b[32m━━━━━━━━━━━━━━━━━━━━\u001b[0m\u001b[37m\u001b[0m \u001b[1m22s\u001b[0m 1ms/step - accuracy: 0.9884 - loss: 0.0334 - val_accuracy: 0.9905 - val_loss: 0.0291\n",
      "Epoch 12/20\n",
      "\u001b[1m20240/20240\u001b[0m \u001b[32m━━━━━━━━━━━━━━━━━━━━\u001b[0m\u001b[37m\u001b[0m \u001b[1m22s\u001b[0m 1ms/step - accuracy: 0.9890 - loss: 0.0326 - val_accuracy: 0.9911 - val_loss: 0.0288\n",
      "Epoch 13/20\n",
      "\u001b[1m20240/20240\u001b[0m \u001b[32m━━━━━━━━━━━━━━━━━━━━\u001b[0m\u001b[37m\u001b[0m \u001b[1m23s\u001b[0m 1ms/step - accuracy: 0.9894 - loss: 0.0317 - val_accuracy: 0.9915 - val_loss: 0.0327\n",
      "Epoch 14/20\n",
      "\u001b[1m20240/20240\u001b[0m \u001b[32m━━━━━━━━━━━━━━━━━━━━\u001b[0m\u001b[37m\u001b[0m \u001b[1m22s\u001b[0m 1ms/step - accuracy: 0.9896 - loss: 0.0310 - val_accuracy: 0.9904 - val_loss: 0.0287\n",
      "Epoch 15/20\n",
      "\u001b[1m20240/20240\u001b[0m \u001b[32m━━━━━━━━━━━━━━━━━━━━\u001b[0m\u001b[37m\u001b[0m \u001b[1m22s\u001b[0m 1ms/step - accuracy: 0.9896 - loss: 0.0314 - val_accuracy: 0.9903 - val_loss: 0.0296\n",
      "Epoch 16/20\n",
      "\u001b[1m20240/20240\u001b[0m \u001b[32m━━━━━━━━━━━━━━━━━━━━\u001b[0m\u001b[37m\u001b[0m \u001b[1m22s\u001b[0m 1ms/step - accuracy: 0.9899 - loss: 0.0306 - val_accuracy: 0.9908 - val_loss: 0.0287\n",
      "Epoch 17/20\n",
      "\u001b[1m20240/20240\u001b[0m \u001b[32m━━━━━━━━━━━━━━━━━━━━\u001b[0m\u001b[37m\u001b[0m \u001b[1m23s\u001b[0m 1ms/step - accuracy: 0.9901 - loss: 0.0301 - val_accuracy: 0.9917 - val_loss: 0.0280\n",
      "Epoch 18/20\n",
      "\u001b[1m20240/20240\u001b[0m \u001b[32m━━━━━━━━━━━━━━━━━━━━\u001b[0m\u001b[37m\u001b[0m \u001b[1m22s\u001b[0m 1ms/step - accuracy: 0.9901 - loss: 0.0297 - val_accuracy: 0.9918 - val_loss: 0.0280\n",
      "Epoch 19/20\n",
      "\u001b[1m20240/20240\u001b[0m \u001b[32m━━━━━━━━━━━━━━━━━━━━\u001b[0m\u001b[37m\u001b[0m \u001b[1m22s\u001b[0m 1ms/step - accuracy: 0.9904 - loss: 0.0292 - val_accuracy: 0.9906 - val_loss: 0.0295\n",
      "Epoch 20/20\n",
      "\u001b[1m20240/20240\u001b[0m \u001b[32m━━━━━━━━━━━━━━━━━━━━\u001b[0m\u001b[37m\u001b[0m \u001b[1m22s\u001b[0m 1ms/step - accuracy: 0.9906 - loss: 0.0286 - val_accuracy: 0.9885 - val_loss: 0.0284\n"
     ]
    }
   ],
   "source": [
    "history = model_nn.fit(\n",
    "    X_train_dl_scaled, y_train_dl,\n",
    "    epochs=20,\n",
    "    batch_size=32,\n",
    "    validation_data=(X_val_dl_scaled, y_val_dl),\n",
    "    verbose=1\n",
    ")"
   ]
  },
  {
   "cell_type": "code",
   "execution_count": 21,
   "metadata": {},
   "outputs": [
    {
     "name": "stdout",
     "output_type": "stream",
     "text": [
      "\u001b[1m4338/4338\u001b[0m \u001b[32m━━━━━━━━━━━━━━━━━━━━\u001b[0m\u001b[37m\u001b[0m \u001b[1m4s\u001b[0m 810us/step\n",
      "Deep Learning Model Evaluation (Validation Set):\n",
      "Accuracy: 0.9885\n",
      "Precision: 0.9912\n",
      "Recall: 0.9891\n",
      "F1-Score: 0.9902\n"
     ]
    }
   ],
   "source": [
    "# Validate Deep Learning Model\n",
    "y_val_pred_dl = model_nn.predict(X_val_dl_scaled)\n",
    "y_val_pred_class_dl = (y_val_pred_dl > 0.5).astype(int)\n",
    "\n",
    "accuracy_dl = accuracy_score(y_val_dl, y_val_pred_class_dl)\n",
    "precision_dl = precision_score(y_val_dl, y_val_pred_class_dl)\n",
    "recall_dl = recall_score(y_val_dl, y_val_pred_class_dl)\n",
    "f1_dl = f1_score(y_val_dl, y_val_pred_class_dl)\n",
    "\n",
    "print(\"Deep Learning Model Evaluation (Validation Set):\")\n",
    "print(f\"Accuracy: {accuracy_dl:.4f}\")\n",
    "print(f\"Precision: {precision_dl:.4f}\")\n",
    "print(f\"Recall: {recall_dl:.4f}\")\n",
    "print(f\"F1-Score: {f1_dl:.4f}\")\n"
   ]
  },
  {
   "cell_type": "markdown",
   "metadata": {},
   "source": [
    "Training Insights:\n",
    "Validation Accuracy: Improved steadily and peaked at 99.10% at the end of training.\n",
    "Validation Loss: Gradually decreased to 0.0279, indicating that the model is learning effectively.\n",
    "Stable Training: No signs of overfitting, as validation loss and accuracy remain consistent.\n",
    "Evaluation Metrics (Validation Set):\n",
    "Accuracy: 99.10%\n",
    "Precision: 99.68%\n",
    "Recall: 98.77%\n",
    "F1-Score: 99.23%"
   ]
  },
  {
   "cell_type": "code",
   "execution_count": 22,
   "metadata": {},
   "outputs": [
    {
     "name": "stdout",
     "output_type": "stream",
     "text": [
      "\u001b[1m4338/4338\u001b[0m \u001b[32m━━━━━━━━━━━━━━━━━━━━\u001b[0m\u001b[37m\u001b[0m \u001b[1m3s\u001b[0m 796us/step\n",
      "\n",
      "Deep Learning Model Evaluation (Test Set):\n",
      "Accuracy: 0.9879\n",
      "Precision: 0.9910\n",
      "Recall: 0.9883\n",
      "F1-Score: 0.9897\n"
     ]
    }
   ],
   "source": [
    "# Test Deep Learning Model\n",
    "y_test_pred_dl = model_nn.predict(X_test_dl_scaled)\n",
    "y_test_pred_class_dl = (y_test_pred_dl > 0.5).astype(int)\n",
    "\n",
    "accuracy_dl_test = accuracy_score(y_test_dl, y_test_pred_class_dl)\n",
    "precision_dl_test = precision_score(y_test_dl, y_test_pred_class_dl)\n",
    "recall_dl_test = recall_score(y_test_dl, y_test_pred_class_dl)\n",
    "f1_dl_test = f1_score(y_test_dl, y_test_pred_class_dl)\n",
    "\n",
    "print(\"\\nDeep Learning Model Evaluation (Test Set):\")\n",
    "print(f\"Accuracy: {accuracy_dl_test:.4f}\")\n",
    "print(f\"Precision: {precision_dl_test:.4f}\")\n",
    "print(f\"Recall: {recall_dl_test:.4f}\")\n",
    "print(f\"F1-Score: {f1_dl_test:.4f}\")\n"
   ]
  },
  {
   "cell_type": "markdown",
   "metadata": {},
   "source": [
    "Consistency: The test set performance closely matches the validation set metrics, indicating that the model is not overfitting and generalizes well.\n",
    "High Precision and F1-Score: This is particularly beneficial if the model is used for tasks where minimizing false positives and achieving high overall prediction quality is crucial.\n",
    "Balanced Performance: The recall is also high, ensuring that most positive cases are identified correctly."
   ]
  },
  {
   "cell_type": "code",
   "execution_count": 23,
   "metadata": {},
   "outputs": [
    {
     "name": "stderr",
     "output_type": "stream",
     "text": [
      "WARNING:absl:You are saving your model as an HDF5 file via `model.save()` or `keras.saving.save_model(model)`. This file format is considered legacy. We recommend using instead the native Keras format, e.g. `model.save('my_model.keras')` or `keras.saving.save_model(model, 'my_model.keras')`. \n"
     ]
    }
   ],
   "source": [
    "# Save the model\n",
    "model_nn.save('D://classes/nlp/project/deep_learning_model.h5')"
   ]
  },
  {
   "cell_type": "markdown",
   "metadata": {},
   "source": [
    "Since we've trained models (Logistic Regression and Deep Learning) to classify sentiment and assess game quality, we can use these to score games based on:\n",
    "\n",
    "Sentiment Prediction: A score derived from the predicted probability of a positive sentiment.\n",
    "Time Spent ('hours_played'): This adds a measure of user engagement.\n",
    "The output of this recommendation will consider both factors to suggest highly engaging games with positive sentiment in the selected genre.\n",
    "Data Preparation for Recommendation\n",
    "Filter by Genre: Filter games by the genre selected by the user.\n",
    "Sort by Combined Metric: Create a metric (e.g., a weighted average of sentiment probability and normalized hours_played).\n",
    "Handle Ties: In cases of similar scores, sort by additional metrics like release date or popularity."
   ]
  },
  {
   "cell_type": "markdown",
   "metadata": {},
   "source": [
    "Recommendation System"
   ]
  },
  {
   "cell_type": "code",
   "execution_count": 26,
   "metadata": {},
   "outputs": [
    {
     "name": "stderr",
     "output_type": "stream",
     "text": [
      "WARNING:absl:Compiled the loaded model, but the compiled metrics have yet to be built. `model.compile_metrics` will be empty until you train or evaluate the model.\n"
     ]
    }
   ],
   "source": [
    "from tensorflow.keras.models import load_model\n",
    "\n",
    "model_dl_loaded = load_model('D://classes/nlp/project/deep_learning_model.h5')\n",
    "\n",
    "# Load the feature list and scaler\n",
    "with open('feature_list_dl.pkl', 'rb') as f:\n",
    "    feature_list_dl_loaded = pickle.load(f)\n",
    "\n",
    "with open('scaler_dl.pkl', 'rb') as f:\n",
    "    scaler_dl_loaded = pickle.load(f)"
   ]
  },
  {
   "cell_type": "code",
   "execution_count": 33,
   "metadata": {},
   "outputs": [
    {
     "name": "stdout",
     "output_type": "stream",
     "text": [
      "\u001b[1m20146/20146\u001b[0m \u001b[32m━━━━━━━━━━━━━━━━━━━━\u001b[0m\u001b[37m\u001b[0m \u001b[1m19s\u001b[0m 918us/step\n",
      "                       game_name    score\n",
      "38662         Grand Theft Auto V  0.97500\n",
      "125312  FINAL FANTASY XIV Online  0.97495\n",
      "586630       Oxygen Not Included  0.97495\n",
      "653997   Total War: WARHAMMER II  0.97495\n",
      "304750    ARK: Survival Ascended  0.97490\n",
      "457736  American Truck Simulator  0.97485\n",
      "128807           Team Fortress 2  0.97485\n",
      "210559                   Valheim  0.97480\n",
      "583436                    Arma 3  0.97480\n",
      "102982               The Crew™ 2  0.97475\n"
     ]
    }
   ],
   "source": [
    "import numpy as np\n",
    "\n",
    "def recommend_games(user_genre_choice, top_n=10):\n",
    "    # Step 1: Filter dataset by chosen genres\n",
    "    filtered_games = merged_df.loc[merged_df[user_genre_choice].any(axis=1), \n",
    "                                   ['sentiment_score', 'hours_played', 'game_name'] + list(genre_columns)]\n",
    "    \n",
    "    # Check if any games match\n",
    "    if filtered_games.empty:\n",
    "        print(\"No games match the selected genres. Please choose different genres.\")\n",
    "        return pd.DataFrame()\n",
    "    \n",
    "    # Step 2: Normalize 'hours_played'\n",
    "    merged_hours_max = merged_df['hours_played'].max()\n",
    "    if merged_hours_max > 0:\n",
    "        filtered_games['normalized_hours_played'] = filtered_games['hours_played'] / merged_hours_max\n",
    "    else:\n",
    "        filtered_games['normalized_hours_played'] = 0.0\n",
    "    \n",
    "    # Step 3: Prepare features\n",
    "    X = filtered_games[['sentiment_score', 'normalized_hours_played']]\n",
    "    X = pd.concat([X, filtered_games[genre_columns]], axis=1)\n",
    "    \n",
    "    # Step 4: Align features with the training feature list\n",
    "    # Reindex to ensure all required features are present\n",
    "    X = X.reindex(columns=feature_list_dl_loaded, fill_value=0)\n",
    "    \n",
    "    # Step 5: Scale the features using the loaded scaler\n",
    "    X_scaled = scaler_dl_loaded.transform(X)\n",
    "    \n",
    "    # Step 6: Predict sentiment probabilities using the Deep Learning model\n",
    "    sentiment_probs = model_dl_loaded.predict(X_scaled)\n",
    "    sentiment_probs_clipped = np.clip(sentiment_probs, 0.05, 0.95)\n",
    "    \n",
    "    # Step 7: Calculate the combined score\n",
    "    # Assuming equal weighting; adjust as necessary\n",
    "    filtered_games['score'] = (\n",
    "        sentiment_probs_clipped.flatten() * 0.5 + \n",
    "        filtered_games['normalized_hours_played'] * 0.5\n",
    "    )\n",
    "    \n",
    "    # Step 8: Sort games by score\n",
    "    recommended_games = filtered_games[['game_name', 'score']].sort_values(by='score', ascending=False)\n",
    "    \n",
    "    # Step 9: Return top N games\n",
    "    return recommended_games.head(top_n)\n",
    "\n",
    "\n",
    "# Example usage:\n",
    "user_genre_choice = ['Action', 'Adventure']\n",
    "top_games = recommend_games(user_genre_choice, top_n=10)\n",
    "print(top_games)\n"
   ]
  },
  {
   "cell_type": "code",
   "execution_count": null,
   "metadata": {},
   "outputs": [],
   "source": []
  }
 ],
 "metadata": {
  "kernelspec": {
   "display_name": "Python 3",
   "language": "python",
   "name": "python3"
  },
  "language_info": {
   "codemirror_mode": {
    "name": "ipython",
    "version": 3
   },
   "file_extension": ".py",
   "mimetype": "text/x-python",
   "name": "python",
   "nbconvert_exporter": "python",
   "pygments_lexer": "ipython3",
   "version": "3.12.0"
  }
 },
 "nbformat": 4,
 "nbformat_minor": 2
}
